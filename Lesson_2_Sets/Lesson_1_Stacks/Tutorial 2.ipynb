{
 "cells": [
  {
   "cell_type": "markdown",
   "metadata": {},
   "source": [
    "# Overview"
   ]
  },
  {
   "cell_type": "markdown",
   "metadata": {},
   "source": [
    "## Sets"
   ]
  },
  {
   "cell_type": "markdown",
   "metadata": {},
   "source": [
    "### What is a Set\n",
    "A set is an unordered data set used to hold unique (non-duplicte) values"
   ]
  },
  {
   "cell_type": "markdown",
   "metadata": {},
   "source": [
    "### When to use:\n",
    "Sets are very efficient ways of searching for elements.\n",
    "Sets should be used in cases that your data needs to be:\n",
    "* Unique (no duplicate data)\n",
    "* Immutable (cant be changed after definition)\n",
    "* Iterable "
   ]
  },
  {
   "cell_type": "markdown",
   "metadata": {},
   "source": [
    "### How to Use a Set:\n",
    "Sets are one of the four built in data types in python of the following:\n",
    "* sets\n",
    "* list\n",
    "* tuple\n",
    "* dictionary\n",
    "\n",
    "\n",
    "sets and dictionaries both use {brackets} but are different in structure, a dictionary contains two strings seperated by a colon in the following format :\n",
    "* dictionary = {\"key\": \"data\"}\n",
    "sets only contain a single item such as \n",
    "* set = {\"data\"}\n",
    "because initializing an empty set and dictionary would be done the same way, use the set() function to initialize an empty set like as follows:\n",
    "* set = set()\n"
   ]
  },
  {
   "cell_type": "markdown",
   "metadata": {},
   "source": [
    "## Adding values to a set"
   ]
  },
  {
   "cell_type": "code",
   "execution_count": null,
   "metadata": {},
   "outputs": [],
   "source": [
    "myset = set()\n",
    "myset.add('a')\n",
    "print(myset)\n",
    "myset.add('a')\n",
    "myset.add('a')\n",
    "print(myset)\n",
    "myset.add('b')\n",
    "myset.add('c')\n",
    "myset.add('d')\n",
    "myset.add('e')\n",
    "print(myset)\n"
   ]
  },
  {
   "cell_type": "markdown",
   "metadata": {},
   "source": [
    "Notice how adding multiple instances of 'a' does not add the value to the set, this is because of its first rule of only holding unique values.\n",
    "The add() function has a performance of O(1)"
   ]
  },
  {
   "cell_type": "markdown",
   "metadata": {},
   "source": [
    "## Removing a value from a set"
   ]
  },
  {
   "cell_type": "code",
   "execution_count": null,
   "metadata": {},
   "outputs": [],
   "source": [
    "myset2 = {'a','b','c','d','e','f'}\n",
    "print(myset2)\n",
    "myset2.remove('f')\n",
    "print(myset2)\n",
    "myset2.remove('c')\n",
    "print(myset2)\n",
    "myset2.remove('a')\n",
    "print(myset2)"
   ]
  },
  {
   "cell_type": "markdown",
   "metadata": {},
   "source": [
    "first notice, how everything is not in its original order, then observe how the remove() function removes a data point based off its value and not position.\n",
    "The remove function has a performance of O(1)"
   ]
  },
  {
   "cell_type": "markdown",
   "metadata": {},
   "source": [
    "## Other set functions"
   ]
  },
  {
   "cell_type": "code",
   "execution_count": 20,
   "metadata": {},
   "outputs": [
    {
     "name": "stdout",
     "output_type": "stream",
     "text": [
      "true\n",
      "{2, 3, 'three', 'one', 'two'}\n",
      "5\n",
      "{'four', 2, 3, 4, 5, 'three', 'one', 'two', 'five'}\n",
      "{3, 'three'}\n",
      "None\n"
     ]
    }
   ],
   "source": [
    "myset3 = {1,2,3,'one','two','three'}\n",
    "myset4 = {3,4,5,'three','four','five'}\n",
    "\n",
    "if 1 in myset3:\n",
    "    print('true')\n",
    "    \n",
    "myset3.pop()\n",
    "print(myset3)\n",
    "\n",
    "print(len(myset3))  \n",
    "\n",
    "print(myset3.union(myset4))\n",
    "\n",
    "print(myset3.intersection(myset4))\n",
    "\n",
    "print(myset3.clear())\n",
    "\n",
    "\n"
   ]
  },
  {
   "cell_type": "markdown",
   "metadata": {},
   "source": [
    "## Problems"
   ]
  },
  {
   "cell_type": "markdown",
   "metadata": {},
   "source": [
    " ![Cheating!?](https://shsnews.org/wp-content/uploads/2019/03/story-on-cheatin.jpg)\n",
    "\n",
    "Example Problem:\n",
    "You are a teacher at a school, create a program to make sure no student accidentaly submitted the same file twice, also check for plagarism between students by evalutating their filenames."
   ]
  },
  {
   "cell_type": "code",
   "execution_count": 19,
   "metadata": {},
   "outputs": [
    {
     "name": "stdout",
     "output_type": "stream",
     "text": [
      "This student submitted duplicate assignments\n",
      "student 1 and student 2 both submitted {'stackpractice.py'}\n",
      "This student had no duplicate assignments\n",
      "student 2 and student 1 both submitted {'stackpractice.py'}\n",
      "student 2 and student 3 both submitted {'final.py'}\n",
      "This student had no duplicate assignments\n",
      "student 3 and student 2 both submitted {'final.py'}\n"
     ]
    }
   ],
   "source": [
    "student1_submissions = {\"hiworld.py\", \"stackpractice.py\", \"setpractice.py\", \"treepractice.py\", \"treepractice.py\"}\n",
    "student2_submissions = {\"helloworld.py\", \"stackpractice.py\", \"setsassignment.py\", \"treeassignment.py\", \"final.py\"}\n",
    "student3_submissions = {\"howdyworld.py\", \"stackstuff.py\", \"setstuff.py\", \"treestuff.py\", \"final.py\"}\n",
    "\n",
    "#Begin solution 1\n",
    "def evaluate_student(student):\n",
    "    if len(student) < 5:\n",
    "        print(\"This student submitted duplicate assignments\")\n",
    "    else:\n",
    "        print(\"This student had no duplicate assignments\")\n",
    "    if student == student1_submissions:\n",
    "        if len(student.intersection(student2_submissions)) != 0:\n",
    "            print(f\"student 1 and student 2 both submitted {student.intersection(student2_submissions)}\")\n",
    "        if len(student.intersection(student3_submissions)) != 0:\n",
    "            print(f\"student 1 and student 3 both submitted {student.intersection(student3_submissions)}\")\n",
    "\n",
    "    elif student == student2_submissions:\n",
    "        if len(student.intersection(student2_submissions)) != 0:\n",
    "            print(f\"student 2 and student 1 both submitted {student.intersection(student1_submissions)}\")\n",
    "        if len(student.intersection(student3_submissions)) != 0:\n",
    "            print(f\"student 2 and student 3 both submitted {student.intersection(student3_submissions)}\")\n",
    "    elif student == student3_submissions:\n",
    "        if len(student.intersection(student1_submissions)) != 0:\n",
    "            print(f\"student 3 and student 1 both submitted {student.intersection(student1_submissions)}\")\n",
    "        if len(student.intersection(student2_submissions)) != 0:\n",
    "            print(f\"student 3 and student 2 both submitted {student.intersection(student2_submissions)}\")\n",
    "#End solution 1\n",
    "evaluate_student(student1_submissions)\n",
    "evaluate_student(student2_submissions)\n",
    "evaluate_student(student3_submissions)"
   ]
  },
  {
   "cell_type": "markdown",
   "metadata": {},
   "source": [
    " ![Friendship](https://bigthink.com/wp-content/uploads/2014/12/origin-165.jpg)\n",
    "\n",
    "Problem:\n",
    "You are working for Unite, a non-profit that helps people overcome their differences by finding things in common between people. Assume 0 and 1 are opposing views and 2 and 3 are a different set of views. Compare each person to see what opinions they share, and if they share more or less in common"
   ]
  },
  {
   "cell_type": "code",
   "execution_count": null,
   "metadata": {},
   "outputs": [],
   "source": [
    "person1 = {0,2,4,6,8,10,12,14,16,18,20}\n",
    "person2 = {1,3,5,7,9,11,13,15,17,19,21}\n",
    "person3 = {0,2,5,7,9,11,13,15,16,19,20}\n",
    "person4 = {0,2,5,7,8,10,12,14,17,18,21}\n",
    "person5 = {0,3,4,6,9,11,12,14,17,19,21}\n",
    "person6 = {1,3,4,6,9,10,12,15,16,18,21}\n",
    "\n",
    "#Begin problem 1\n",
    "    \n",
    "#End problem 1\n",
    "#solution: https://github.com/KabutoDrip/Python-Data-Structures-Tutorials/blob/main/Lesson_2_Sets/Lesson_1_Stacks/lesson_2_solution.py"
   ]
  }
 ],
 "metadata": {
  "kernelspec": {
   "display_name": "Python 3.10.0 64-bit",
   "language": "python",
   "name": "python3"
  },
  "language_info": {
   "codemirror_mode": {
    "name": "ipython",
    "version": 3
   },
   "file_extension": ".py",
   "mimetype": "text/x-python",
   "name": "python",
   "nbconvert_exporter": "python",
   "pygments_lexer": "ipython3",
   "version": "3.10.5"
  },
  "orig_nbformat": 4,
  "vscode": {
   "interpreter": {
    "hash": "024967ff26ac6abb98b0119ed957548ca000578b20fb9f601d9185c16263f192"
   }
  }
 },
 "nbformat": 4,
 "nbformat_minor": 2
}
