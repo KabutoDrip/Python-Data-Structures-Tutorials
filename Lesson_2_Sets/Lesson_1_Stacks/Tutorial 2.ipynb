{
 "cells": [
  {
   "cell_type": "markdown",
   "metadata": {},
   "source": [
    "# Overview"
   ]
  },
  {
   "cell_type": "markdown",
   "metadata": {},
   "source": [
    "## Sets"
   ]
  },
  {
   "cell_type": "markdown",
   "metadata": {},
   "source": [
    "### When to use:\n",
    "Sets are very efficient ways of searching for elements.\n",
    "Sets should be used in cases that your data needs to be:\n",
    "* Unique (no duplicate data)\n",
    "* Immutable (cant be changed after definition)\n",
    "* Iterable "
   ]
  },
  {
   "cell_type": "markdown",
   "metadata": {},
   "source": [
    "### How to Use a Set:\n",
    "Sets are one of the four built in data types in python of the following:\n",
    "* sets\n",
    "* list\n",
    "* tuple\n",
    "* dictionary\n",
    "\n",
    "\n",
    "sets and dictionaries both use {brackets} but are different in structure, a dictionary contains two strings seperated by a colon in the following format :\n",
    "* dictionary = {\"key\": \"data\"}\n",
    "sets only contain a single item such as \n",
    "* set = {\"data\"}\n",
    "because initializing an empty set and dictionary would be done the same way, use the set() function to initialize an empty set like as follows:\n",
    "* set = set()\n"
   ]
  },
  {
   "cell_type": "markdown",
   "metadata": {},
   "source": [
    "## Adding values to a set"
   ]
  },
  {
   "cell_type": "code",
   "execution_count": 12,
   "metadata": {},
   "outputs": [
    {
     "name": "stdout",
     "output_type": "stream",
     "text": [
      "{'a'}\n",
      "{'a'}\n",
      "{'a', 'e', 'c', 'b', 'd'}\n"
     ]
    }
   ],
   "source": [
    "myset = set()\n",
    "myset.add('a')\n",
    "print(myset)\n",
    "myset.add('a')\n",
    "myset.add('a')\n",
    "print(myset)\n",
    "myset.add('b')\n",
    "myset.add('c')\n",
    "myset.add('d')\n",
    "myset.add('e')\n",
    "print(myset)\n"
   ]
  },
  {
   "cell_type": "markdown",
   "metadata": {},
   "source": [
    "Notice how adding multiple instances of 'a' does not add the value to the set, this is because of its first rule of only holding unique values.\n",
    "The add() function has a performance of O(1)"
   ]
  },
  {
   "cell_type": "markdown",
   "metadata": {},
   "source": [
    "## Removing a value from a set"
   ]
  },
  {
   "cell_type": "code",
   "execution_count": 13,
   "metadata": {},
   "outputs": [
    {
     "name": "stdout",
     "output_type": "stream",
     "text": [
      "{'f', 'e', 'a', 'c', 'b', 'd'}\n",
      "{'e', 'a', 'c', 'b', 'd'}\n",
      "{'e', 'a', 'b', 'd'}\n",
      "{'e', 'b', 'd'}\n"
     ]
    }
   ],
   "source": [
    "myset2 = {'a','b','c','d','e','f'}\n",
    "print(myset2)\n",
    "myset2.remove('f')\n",
    "print(myset2)\n",
    "myset2.remove('c')\n",
    "print(myset2)\n",
    "myset2.remove('a')\n",
    "print(myset2)"
   ]
  },
  {
   "cell_type": "markdown",
   "metadata": {},
   "source": [
    "first notice, how everything is not in its original order, then observe how the remove() function removes a data point based off its value and not position.\n",
    "The remove function has a performance of O(1)"
   ]
  },
  {
   "cell_type": "markdown",
   "metadata": {},
   "source": [
    "## Other set functions"
   ]
  },
  {
   "cell_type": "code",
   "execution_count": 22,
   "metadata": {},
   "outputs": [
    {
     "name": "stdout",
     "output_type": "stream",
     "text": [
      "true\n",
      "{2, 3, 'three', 'one', 'two'}\n",
      "5\n",
      "{'five', 2, 3, 4, 5, 'three', 'four', 'one', 'two'}\n",
      "{'three', 3}\n",
      "None\n"
     ]
    }
   ],
   "source": [
    "myset3 = {1,2,3,'one','two','three'}\n",
    "myset4 = {3,4,5,'three','four','five'}\n",
    "\n",
    "if 1 in myset3:\n",
    "    print('true')\n",
    "    \n",
    "myset3.pop()\n",
    "print(myset3)\n",
    "\n",
    "print(len(myset3))  \n",
    "\n",
    "print(myset3.union(myset4))\n",
    "\n",
    "print(myset3.intersection(myset4))\n",
    "\n",
    "print(myset3.clear())\n",
    "\n",
    "\n"
   ]
  },
  {
   "cell_type": "markdown",
   "metadata": {},
   "source": [
    "## Problems"
   ]
  },
  {
   "cell_type": "markdown",
   "metadata": {},
   "source": [
    "Using the set functions from above, solve these problems:"
   ]
  },
  {
   "cell_type": "markdown",
   "metadata": {},
   "source": [
    "create a function that gets 5 favorite movies from the user and puts them in a set, afterwards, have it prompt another person to enter 5 movies. With both sets, first evaluate if either set had a duplicate item and if so, re-prompt the user. Then see if the lists had any movies in common. print any similar items, then print both sets. prompt the first user to narrow their list to top 3, then ask the second user the same, then re-evaluate smaller sets."
   ]
  },
  {
   "cell_type": "code",
   "execution_count": null,
   "metadata": {},
   "outputs": [],
   "source": [
    "#Begin solution 1\n",
    "\n",
    "#End solution 1"
   ]
  },
  {
   "cell_type": "markdown",
   "metadata": {},
   "source": [
    "write a loop that creates a set of numbers 1-100, and then loop through the set removing all numbers divisible by 3. print the set."
   ]
  },
  {
   "cell_type": "code",
   "execution_count": null,
   "metadata": {},
   "outputs": [],
   "source": [
    "#Begin solution 2\n",
    "\n",
    "#End solution 2"
   ]
  }
 ],
 "metadata": {
  "kernelspec": {
   "display_name": "Python 3.10.0 64-bit",
   "language": "python",
   "name": "python3"
  },
  "language_info": {
   "codemirror_mode": {
    "name": "ipython",
    "version": 3
   },
   "file_extension": ".py",
   "mimetype": "text/x-python",
   "name": "python",
   "nbconvert_exporter": "python",
   "pygments_lexer": "ipython3",
   "version": "3.10.5"
  },
  "orig_nbformat": 4,
  "vscode": {
   "interpreter": {
    "hash": "024967ff26ac6abb98b0119ed957548ca000578b20fb9f601d9185c16263f192"
   }
  }
 },
 "nbformat": 4,
 "nbformat_minor": 2
}
