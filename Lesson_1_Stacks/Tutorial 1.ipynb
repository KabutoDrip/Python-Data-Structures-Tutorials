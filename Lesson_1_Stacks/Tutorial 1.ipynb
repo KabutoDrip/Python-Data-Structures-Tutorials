{
 "cells": [
  {
   "cell_type": "markdown",
   "metadata": {},
   "source": [
    "# Overview"
   ]
  },
  {
   "cell_type": "markdown",
   "metadata": {},
   "source": [
    "## List Stacks"
   ]
  },
  {
   "cell_type": "markdown",
   "metadata": {},
   "source": [
    "Stacks are a concept we can apply in a few ways, first off, we can use pythons built in lists as a stack.\n",
    "Using a list stack we can use the following operations to manipulate our stack:\n",
    "* len(stack)- the size of the list.\n",
    "* stack.append(your_value)- adds your value to the end of the list.\n",
    "* stack.pop()- removes the last value of the list."
   ]
  },
  {
   "cell_type": "markdown",
   "metadata": {},
   "source": [
    "### Appending"
   ]
  },
  {
   "cell_type": "code",
   "execution_count": 10,
   "metadata": {},
   "outputs": [
    {
     "name": "stdout",
     "output_type": "stream",
     "text": [
      "Here we can see a new empty list:  [] 0\n",
      "Here is the list after appending 3 items:  ['item1', 'item2', 'item3'] 3\n"
     ]
    }
   ],
   "source": [
    "example_stack = []\n",
    "print(\"Here we can see a new empty list: \",example_stack,len(example_stack))\n",
    "example_stack.append('item1')\n",
    "example_stack.append('item2')\n",
    "example_stack.append('item3')\n",
    "print(\"Here is the list after appending 3 items: \",example_stack,len(example_stack))"
   ]
  },
  {
   "cell_type": "markdown",
   "metadata": {},
   "source": [
    "### Popping"
   ]
  },
  {
   "cell_type": "code",
   "execution_count": 11,
   "metadata": {},
   "outputs": [
    {
     "name": "stdout",
     "output_type": "stream",
     "text": [
      "Here is a pregenerated list:  ['item1', 'item2', 'item3', 'item4', 'item5', 'item6', 'item7', 'item8'] 8\n",
      "Here is the same list after popping it 5 times:  ['item1', 'item2', 'item3'] 3\n"
     ]
    }
   ],
   "source": [
    "example_stack = [\"item1\",\"item2\",\"item3\",\"item4\",\"item5\",\"item6\",\"item7\",\"item8\"]\n",
    "print(\"Here is a pregenerated list: \",example_stack,len(example_stack))\n",
    "example_stack.pop()\n",
    "example_stack.pop()\n",
    "example_stack.pop()\n",
    "example_stack.pop()\n",
    "example_stack.pop()\n",
    "print(\"Here is the same list after popping it 5 times: \",example_stack,len(example_stack))"
   ]
  },
  {
   "cell_type": "markdown",
   "metadata": {},
   "source": [
    "# Problems:"
   ]
  },
  {
   "cell_type": "markdown",
   "metadata": {},
   "source": [
    "Using only append and pop, convert the given stacks to lists that match the expected results:\n"
   ]
  },
  {
   "cell_type": "code",
   "execution_count": null,
   "metadata": {},
   "outputs": [],
   "source": [
    "problem_stack1 = [1,2,3,4,5,6,7,8,9,10]\n",
    "\n",
    "print(problem_stack1) #expected result:[1,2,3,4,5,4,3,2,1]"
   ]
  }
 ],
 "metadata": {
  "kernelspec": {
   "display_name": "Python 3.10.0 64-bit",
   "language": "python",
   "name": "python3"
  },
  "language_info": {
   "codemirror_mode": {
    "name": "ipython",
    "version": 3
   },
   "file_extension": ".py",
   "mimetype": "text/x-python",
   "name": "python",
   "nbconvert_exporter": "python",
   "pygments_lexer": "ipython3",
   "version": "3.10.0"
  },
  "orig_nbformat": 4,
  "vscode": {
   "interpreter": {
    "hash": "024967ff26ac6abb98b0119ed957548ca000578b20fb9f601d9185c16263f192"
   }
  }
 },
 "nbformat": 4,
 "nbformat_minor": 2
}
