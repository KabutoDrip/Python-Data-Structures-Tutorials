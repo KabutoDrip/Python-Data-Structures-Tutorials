{
 "cells": [
  {
   "cell_type": "markdown",
   "metadata": {},
   "source": [
    "# Overview"
   ]
  },
  {
   "cell_type": "markdown",
   "metadata": {},
   "source": [
    "## What is a stack?\n",
    " A stack is a Last in, First out data structure where you work with deletion and insertion at the end of the stack.\n",
    "\n",
    "Programiz Provides a great visual representation of how stacks work.\n",
    " ![(https://www.programiz.com/dsa/stack)](https://cdn.programiz.com/sites/tutorial2program/files/stack.png)\n",
    " "
   ]
  },
  {
   "cell_type": "markdown",
   "metadata": {},
   "source": [
    "Stacks are a concept we can apply in a few ways, first off, we can use pythons built in lists as a stack.\n",
    "Using a list stack we can use the following operations to manipulate our stack:\n",
    "* len(stack)- the size of the list.\n",
    "* stack.append(your_value)- adds your value to the end of the list.\n",
    "* stack.pop()- removes the last value of the list."
   ]
  },
  {
   "cell_type": "markdown",
   "metadata": {},
   "source": [
    "### Pushing\n",
    "pushing has a performance of O(1)"
   ]
  },
  {
   "cell_type": "code",
   "execution_count": 2,
   "metadata": {},
   "outputs": [
    {
     "name": "stdout",
     "output_type": "stream",
     "text": [
      "Here we can see a new empty list:  [] 0\n",
      "Here is the list after appending 3 items:  ['item1', 'item2', 'item3'] 3\n"
     ]
    }
   ],
   "source": [
    "example_stack = []\n",
    "print(\"Here we can see a new empty list: \",example_stack,len(example_stack))\n",
    "example_stack.append('item1')\n",
    "example_stack.append('item2')\n",
    "example_stack.append('item3')\n",
    "print(\"Here is the list after appending 3 items: \",example_stack,len(example_stack))"
   ]
  },
  {
   "cell_type": "markdown",
   "metadata": {},
   "source": [
    "### Popping\n",
    "Popping has a performance of O(n)"
   ]
  },
  {
   "cell_type": "code",
   "execution_count": 3,
   "metadata": {},
   "outputs": [
    {
     "name": "stdout",
     "output_type": "stream",
     "text": [
      "Here is a pregenerated list:  ['item1', 'item2', 'item3', 'item4', 'item5', 'item6', 'item7', 'item8'] 8\n",
      "Here is the same list after popping it 5 times:  ['item1', 'item2', 'item3'] 3\n"
     ]
    }
   ],
   "source": [
    "example_stack = [\"item1\",\"item2\",\"item3\",\"item4\",\"item5\",\"item6\",\"item7\",\"item8\"]\n",
    "print(\"Here is a pregenerated list: \",example_stack,len(example_stack))\n",
    "example_stack.pop()\n",
    "example_stack.pop()\n",
    "example_stack.pop()\n",
    "example_stack.pop()\n",
    "example_stack.pop()\n",
    "print(\"Here is the same list after popping it 5 times: \",example_stack,len(example_stack))"
   ]
  },
  {
   "cell_type": "markdown",
   "metadata": {},
   "source": [
    "# Problems:"
   ]
  },
  {
   "cell_type": "markdown",
   "metadata": {},
   "source": [
    "Example problem:\n",
    "You are working at Super Cones Icecream that specializes in super-stacked icecream cones, your customers request their cones in the order they would like to be eaten, you need to reverse that order using a stack to determine how to make that cone.\n",
    "\n"
   ]
  },
  {
   "cell_type": "code",
   "execution_count": 6,
   "metadata": {},
   "outputs": [
    {
     "name": "stdout",
     "output_type": "stream",
     "text": [
      "mystery\n",
      "orange\n",
      "dreamcicle\n",
      "strawberry\n",
      "rocky road\n",
      "cookie dough\n",
      "mint\n",
      "fudge\n",
      "chocolate\n",
      "vanilla\n"
     ]
    }
   ],
   "source": [
    "ordered_cone = [\"vanilla\",\"chocolate\",\"fudge\",\"mint\",\"cookie dough\",\"rocky road\",\"strawberry\",\"dreamcicle\",\"orange\",\"mystery\"]\n",
    "#Begin solution 1\n",
    "while (len(ordered_cone ) > 0):\n",
    "    print(ordered_cone.pop())\n",
    "#End solution 1\n"
   ]
  },
  {
   "cell_type": "markdown",
   "metadata": {},
   "source": [
    "Problem:\n",
    "You are stacking boxes of varying sizes at Amazon warehouse, loop throught the following list of boxes and sort them into piles small, medium, or large by taking them off the end of the stack of unsorted boxes, and putting them into the sorted pile."
   ]
  },
  {
   "cell_type": "code",
   "execution_count": null,
   "metadata": {},
   "outputs": [],
   "source": [
    "unsorted_boxes = [\"large\",\"medium\",\"large\",\"small\",\"small\",\"small\",\"medium\",\"medium\",\"small\",\"large\"]\n",
    "#Begin problem 1\n",
    "\n",
    "#End problem 1\n"
   ]
  }
 ],
 "metadata": {
  "kernelspec": {
   "display_name": "Python 3.10.0 64-bit",
   "language": "python",
   "name": "python3"
  },
  "language_info": {
   "codemirror_mode": {
    "name": "ipython",
    "version": 3
   },
   "file_extension": ".py",
   "mimetype": "text/x-python",
   "name": "python",
   "nbconvert_exporter": "python",
   "pygments_lexer": "ipython3",
   "version": "3.10.5"
  },
  "orig_nbformat": 4,
  "vscode": {
   "interpreter": {
    "hash": "024967ff26ac6abb98b0119ed957548ca000578b20fb9f601d9185c16263f192"
   }
  }
 },
 "nbformat": 4,
 "nbformat_minor": 2
}
