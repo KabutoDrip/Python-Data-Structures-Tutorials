{
 "cells": [
  {
   "cell_type": "markdown",
   "metadata": {},
   "source": [
    "# Overview"
   ]
  },
  {
   "cell_type": "markdown",
   "metadata": {},
   "source": [
    "## Trees"
   ]
  },
  {
   "cell_type": "markdown",
   "metadata": {},
   "source": [
    "### When to use:\n",
    "Trees are more situational data-structures, they work best when searching some form of heirarichal data like your file system on your PC. When implemented properly,it can be incredibly efficient."
   ]
  },
  {
   "cell_type": "markdown",
   "metadata": {},
   "source": [
    "### How to Use a Tree:\n",
    "To create a tree in python we need to do the following:"
   ]
  },
  {
   "cell_type": "code",
   "execution_count": 14,
   "metadata": {},
   "outputs": [
    {
     "name": "stdout",
     "output_type": "stream",
     "text": [
      "21\n"
     ]
    }
   ],
   "source": [
    "class Node:\n",
    "    def __init__(self, data):\n",
    "        self.left = None\n",
    "        self.right = None\n",
    "        self.data = data\n",
    "    def PrintTree(self):\n",
    "        print(self.data)\n",
    "root = Node(21)\n",
    "root.PrintTree()\n"
   ]
  },
  {
   "cell_type": "markdown",
   "metadata": {},
   "source": [
    "### Tree Insertion\n",
    "To add items to a tree, use tree insertion which has a performance of O(log n) via the following implementation:"
   ]
  },
  {
   "cell_type": "code",
   "execution_count": 21,
   "metadata": {},
   "outputs": [
    {
     "name": "stdout",
     "output_type": "stream",
     "text": [
      "21\n",
      "11\n",
      "69\n",
      "420\n"
     ]
    }
   ],
   "source": [
    "class Node:\n",
    "    def __init__(self, data):\n",
    "        self.left = None\n",
    "        self.right = None\n",
    "        self.data = data\n",
    "    def tree_insertion(self, data):\n",
    "        if self.data:\n",
    "            if data < self.data:\n",
    "                if self.left is None:\n",
    "                    self.left = Node(data)\n",
    "                else:\n",
    "                    self.left.tree_insertion(data)\n",
    "            elif data > self.data:\n",
    "                if self.right is None:\n",
    "                    self.right = Node(data)\n",
    "                else:\n",
    "                    self.right.tree_insertion(data)\n",
    "        else:\n",
    "            self.data = data\n",
    "    def PrintTree(self):\n",
    "        print(self.data)\n",
    "        if self.left:\n",
    "            self.left.PrintTree()\n",
    "        if self.right:\n",
    "            self.right.PrintTree()\n",
    "root = Node(21)\n",
    "root.tree_insertion(69)\n",
    "root.tree_insertion(420)\n",
    "root.tree_insertion(11)\n",
    "root.PrintTree()"
   ]
  },
  {
   "cell_type": "markdown",
   "metadata": {},
   "source": [
    "### Tree Searching\n",
    "To serach a tree we check the left and right sides of the tree and then step further into the tree with recursion as we look for our data point, this "
   ]
  },
  {
   "cell_type": "code",
   "execution_count": 26,
   "metadata": {},
   "outputs": [
    {
     "name": "stdout",
     "output_type": "stream",
     "text": [
      "found\n",
      "found\n"
     ]
    }
   ],
   "source": [
    "class Node:\n",
    "    def __init__(self, data):\n",
    "        self.left = None\n",
    "        self.right = None\n",
    "        self.data = data\n",
    "    def tree_insertion(self, data):\n",
    "        if self.data:\n",
    "            if data < self.data:\n",
    "                if self.left is None:\n",
    "                    self.left = Node(data)\n",
    "                else:\n",
    "                    self.left.tree_insertion(data)\n",
    "            elif data > self.data:\n",
    "                if self.right is None:\n",
    "                    self.right = Node(data)\n",
    "                else:\n",
    "                    self.right.tree_insertion(data)\n",
    "        else:\n",
    "            self.data = data\n",
    "    def finder(self,value):\n",
    "        if value < self.data:\n",
    "            if self.left is None:\n",
    "                return \"not found\"\n",
    "            return self.left.finder(value)\n",
    "        elif value > self.data:\n",
    "            if self.right is None:\n",
    "                return \"not found\"\n",
    "            return self.right.finder(value)\n",
    "        else:\n",
    "            return \"found\"\n",
    "\n",
    "    def PrintTree(self):\n",
    "        print(self.data)\n",
    "        if self.left:\n",
    "            self.left.PrintTree()\n",
    "        if self.right:\n",
    "            self.right.PrintTree()\n",
    "root = Node(21)\n",
    "root.tree_insertion(1)\n",
    "root.tree_insertion(2)\n",
    "root.tree_insertion(3)\n",
    "root.tree_insertion(4)\n",
    "root.tree_insertion(5)\n",
    "root.tree_insertion(6)\n",
    "root.tree_insertion(7)\n",
    "\n",
    "print(root.finder(1))\n",
    "print(root.finder(7))\n",
    "\n"
   ]
  },
  {
   "cell_type": "markdown",
   "metadata": {},
   "source": [
    "There are many operations you can use to navigate and manipulate trees including:\n",
    " * remove() which has the same implementation as insert(), and the same performance, but removes items\n",
    " * contains() which is a less efficient way of finding a value in a set, this also has a performance of O(log n)\n",
    " * empty() which checks to see if the trees root is empty and thus the whole tree empty, this has a performance of O(1)\n",
    " * size() which find the size of the tree at a performance of O(1)\n",
    " * height(node) which finds the height of the passed node, this has a performance of O(n)\n",
    "\n",
    " * traverse_forward and traverse_reverse recursively visit each object in the trees from left to right and right to left respectively, these both have a performance of O(n)\n"
   ]
  },
  {
   "cell_type": "markdown",
   "metadata": {},
   "source": [
    "## Problems"
   ]
  },
  {
   "cell_type": "markdown",
   "metadata": {},
   "source": [
    " ![Tree](https://m.media-amazon.com/images/I/71fVAhDKw6L._AC_SL1003_.jpg)\n",
    "\n",
    "Example Problem: You are an intern for family search, have the user input any number 1-150 and find the ancestor that would be closest to that age.\n"
   ]
  },
  {
   "cell_type": "code",
   "execution_count": 50,
   "metadata": {},
   "outputs": [
    {
     "name": "stdout",
     "output_type": "stream",
     "text": [
      "21\n"
     ]
    }
   ],
   "source": [
    "class Node:\n",
    "    def __init__(self, data):\n",
    "        self.left = None\n",
    "        self.right = None\n",
    "        self.data = data\n",
    "\n",
    "\n",
    "    def find_closest(self, root, target_age):\n",
    "        gap = 1000\n",
    "        closest = 1000\n",
    "        while root:\n",
    "            if abs(root.data - target_age) < gap:\n",
    "                gap = abs(root.data - target_age)\n",
    "                closest = root.data\n",
    "            if target_age == root.data:\n",
    "                break\n",
    "            elif target_age < root.data:\n",
    "                root = root.left\n",
    "            else:\n",
    "                root = root.right\n",
    "            return closest\n",
    "\n",
    "    root = Node(21)  \n",
    "    root.left = Node(59)  \n",
    "    root.right = Node(62) \n",
    "    root.left.left = Node(73)  \n",
    "    root.left.right = Node(76)\n",
    "    root.right.left = Node(71)\n",
    "    root.right.right = Node(77)\n",
    "    root.left.left.left = Node(100)\n",
    "    root.left.left.right = Node(105)\n",
    "    root.left.right.left = Node(111)\n",
    "    root.left.right.right = Node(113)\n",
    "    root.right.left.left = Node(101)\n",
    "    root.right.left.right = Node(109)\n",
    "    root.right.right.left = Node(121)\n",
    "    root.right.right.right = Node(110)\n",
    "    root.left.left.left.left = Node(129)\n",
    "    root.left.left.left.right = Node(134)\n",
    "    root.left.left.right.left = Node(135)\n",
    "    root.left.left.right.right = Node(139)\n",
    "    root.left.right.left.left = Node(149)\n",
    "    root.left.right.left.right = Node(151)\n",
    "    root.left.right.right.left = Node(152)\n",
    "    root.left.right.right.right = Node(146)\n",
    "    root.right.left.left.left = Node(139)\n",
    "    root.right.left.left.right = Node(140)\n",
    "    root.right.left.right.left = Node(142)\n",
    "    root.right.left.right.right = Node(146)\n",
    "    root.right.right.left.left = Node(151)\n",
    "    root.right.right.left.right = Node(140)\n",
    "    root.right.right.right.left = Node(126)\n",
    "    root.right.right.right.right = Node(129)\n",
    "\n",
    "    result = find_closest(None,root, 59)\n",
    "    print(result)"
   ]
  },
  {
   "cell_type": "markdown",
   "metadata": {},
   "source": [
    " ![Antivirus](https://static.safetydetectives.com/wp-content/uploads/2020/06/10-Best-Antivirus-in-2020-Windows-Android-iOS-Mac-300x158.jpg)\n",
    "\n",
    "Problem: You are writing an antivirus software and need to remove all the malicious .jar files from the file system. The file system is the provided python tree, iterate throught th tree and remove all the .jar files."
   ]
  },
  {
   "cell_type": "code",
   "execution_count": null,
   "metadata": {},
   "outputs": [],
   "source": []
  }
 ],
 "metadata": {
  "kernelspec": {
   "display_name": "Python 3.10.0 64-bit",
   "language": "python",
   "name": "python3"
  },
  "language_info": {
   "codemirror_mode": {
    "name": "ipython",
    "version": 3
   },
   "file_extension": ".py",
   "mimetype": "text/x-python",
   "name": "python",
   "nbconvert_exporter": "python",
   "pygments_lexer": "ipython3",
   "version": "3.10.5"
  },
  "orig_nbformat": 4,
  "vscode": {
   "interpreter": {
    "hash": "024967ff26ac6abb98b0119ed957548ca000578b20fb9f601d9185c16263f192"
   }
  }
 },
 "nbformat": 4,
 "nbformat_minor": 2
}
