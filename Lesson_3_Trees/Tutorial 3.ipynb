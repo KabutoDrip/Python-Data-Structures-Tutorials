{
 "cells": [
  {
   "cell_type": "markdown",
   "metadata": {},
   "source": [
    "# Overview"
   ]
  },
  {
   "cell_type": "markdown",
   "metadata": {},
   "source": [
    "## Trees"
   ]
  },
  {
   "cell_type": "markdown",
   "metadata": {},
   "source": [
    "### When to use:\n",
    "Trees are more situational data-structures, they work best when searching some form of heirarichal data like your file system on your PC. When implemented properly,it can be incredibly efficient."
   ]
  },
  {
   "cell_type": "markdown",
   "metadata": {},
   "source": [
    "### How to Use a Tree:\n",
    "most often trees in python are binary trees, to create a binary tree, you need to create your root node and your first two children data points like so:\n"
   ]
  },
  {
   "cell_type": "code",
   "execution_count": 3,
   "metadata": {},
   "outputs": [],
   "source": [
    "class BST:\n",
    "    class Node:\n",
    "        def __init__(self, data):\n",
    "            self.data = data\n",
    "            self.left = None\n",
    "            self.right = None\n",
    "\n",
    "    def __init__(self):\n",
    "        self.root = None\n",
    "    "
   ]
  },
  {
   "cell_type": "markdown",
   "metadata": {},
   "source": [
    "Notice how adding multiple instances of 'a' does not add the value to the set, this is because of its first rule of only holding unique values.\n",
    "The add() function has a performance of O(1)"
   ]
  },
  {
   "cell_type": "markdown",
   "metadata": {},
   "source": [
    "## Removing a value from a set"
   ]
  },
  {
   "cell_type": "code",
   "execution_count": null,
   "metadata": {},
   "outputs": [],
   "source": [
    "myset2 = {'a','b','c','d','e','f'}\n",
    "print(myset2)\n",
    "myset2.remove('f')\n",
    "print(myset2)\n",
    "myset2.remove('c')\n",
    "print(myset2)\n",
    "myset2.remove('a')\n",
    "print(myset2)"
   ]
  },
  {
   "cell_type": "markdown",
   "metadata": {},
   "source": [
    "first notice, how everything is not in its original order, then observe how the remove() function removes a data point based off its value and not position.\n",
    "The remove function has a performance of O(1)"
   ]
  },
  {
   "cell_type": "markdown",
   "metadata": {},
   "source": [
    "## Other set functions"
   ]
  },
  {
   "cell_type": "code",
   "execution_count": 6,
   "metadata": {},
   "outputs": [
    {
     "name": "stdout",
     "output_type": "stream",
     "text": [
      "true\n",
      "{2, 3, 'one', 'two', 'three'}\n",
      "5\n",
      "{2, 3, 'five', 4, 'one', 'two', 5, 'four', 'three'}\n",
      "{'three', 3}\n",
      "None\n"
     ]
    }
   ],
   "source": [
    "myset3 = {1,2,3,'one','two','three'}\n",
    "myset4 = {3,4,5,'three','four','five'}\n",
    "\n",
    "if 1 in myset3:\n",
    "    print('true')\n",
    "    \n",
    "myset3.pop()\n",
    "print(myset3)\n",
    "\n",
    "print(len(myset3))  \n",
    "\n",
    "print(myset3.union(myset4))\n",
    "\n",
    "print(myset3.intersection(myset4))\n",
    "\n",
    "print(myset3.clear())\n",
    "\n",
    "\n"
   ]
  },
  {
   "cell_type": "markdown",
   "metadata": {},
   "source": [
    "## Problems"
   ]
  },
  {
   "cell_type": "markdown",
   "metadata": {},
   "source": [
    "Using the set functions from above, solve these problems:"
   ]
  },
  {
   "cell_type": "markdown",
   "metadata": {},
   "source": [
    "Create a function that gets 5 favorite movies from the user and puts them in a set, afterwards, have it prompt another person to enter 5 movies. With both sets, first evaluate if either set had a duplicate item and if so, re-prompt the user. Then see if the lists had any movies in common. print any similar items, then print both sets. prompt the first user to narrow their list to top 3, then ask the second user the same, then re-evaluate smaller sets."
   ]
  },
  {
   "cell_type": "code",
   "execution_count": null,
   "metadata": {},
   "outputs": [],
   "source": [
    "#Begin solution 1\n",
    "\n",
    "#End solution 1"
   ]
  },
  {
   "cell_type": "markdown",
   "metadata": {},
   "source": [
    "Write a loop that creates a set of numbers 1-100, and then loop through the set removing all numbers divisible by 3. print the set."
   ]
  },
  {
   "cell_type": "code",
   "execution_count": null,
   "metadata": {},
   "outputs": [],
   "source": [
    "#Begin solution 2\n",
    "\n",
    "#End solution 2"
   ]
  }
 ],
 "metadata": {
  "kernelspec": {
   "display_name": "Python 3.10.0 64-bit",
   "language": "python",
   "name": "python3"
  },
  "language_info": {
   "codemirror_mode": {
    "name": "ipython",
    "version": 3
   },
   "file_extension": ".py",
   "mimetype": "text/x-python",
   "name": "python",
   "nbconvert_exporter": "python",
   "pygments_lexer": "ipython3",
   "version": "3.10.5"
  },
  "orig_nbformat": 4,
  "vscode": {
   "interpreter": {
    "hash": "024967ff26ac6abb98b0119ed957548ca000578b20fb9f601d9185c16263f192"
   }
  }
 },
 "nbformat": 4,
 "nbformat_minor": 2
}
